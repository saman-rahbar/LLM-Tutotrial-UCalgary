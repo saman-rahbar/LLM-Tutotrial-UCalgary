{
 "cells": [
  {
   "cell_type": "markdown",
   "id": "3b87e3f1",
   "metadata": {},
   "source": [
    "# Training a Simple GPT Model\n",
    "\n",
    "In this notebook, we will train a small GPT model on the Daily Dialog dataset."
   ]
  },
  {
   "cell_type": "code",
   "execution_count": 1,
   "id": "c860bff6",
   "metadata": {},
   "outputs": [],
   "source": [
    "import torch\n",
    "import torch.nn as nn\n",
    "from torch.nn import functional as F\n",
    "import numpy as np\n",
    "from datasets import load_dataset\n",
    "from transformers import GPT2Tokenizer\n",
    "import matplotlib.pyplot as plt\n",
    "from tqdm.auto import tqdm"
   ]
  },
  {
   "cell_type": "markdown",
   "id": "3cba89ed",
   "metadata": {},
   "source": [
    "## Configuration\n",
    "\n",
    "First, let's set up our model configuration:"
   ]
  },
  {
   "cell_type": "code",
   "execution_count": 2,
   "id": "b526c3a4",
   "metadata": {},
   "outputs": [],
   "source": [
    "class Config:\n",
    "    # model parameters\n",
    "    n_layer = 6\n",
    "    n_head = 8\n",
    "    n_embd = 512\n",
    "    vocab_size = 50257  # GPT-2 vocab size\n",
    "    block_size = 128\n",
    "    dropout = 0.1\n",
    "    \n",
    "    # training parameters\n",
    "    batch_size = 32\n",
    "    learning_rate = 3e-4\n",
    "    max_iters = 5000\n",
    "    eval_interval = 500\n",
    "    eval_iters = 200\n",
    "    device = \"cuda\" if torch.cuda.is_available() else \"cpu\"\n",
    "\n",
    "config = Config()"
   ]
  },
  {
   "cell_type": "markdown",
   "id": "88acb08d",
   "metadata": {},
   "source": [
    "## Data Loading and Preparation\n",
    "\n",
    "We'll use the Daily Dialog dataset, which contains natural conversations:"
   ]
  },
  {
   "cell_type": "code",
   "execution_count": null,
   "id": "8d976357",
   "metadata": {},
   "outputs": [
    {
     "data": {
      "application/vnd.jupyter.widget-view+json": {
       "model_id": "fe202ed5e9c345bd84506eb625b60f66",
       "version_major": 2,
       "version_minor": 0
      },
      "text/plain": [
       "README.md:   0%|          | 0.00/7.27k [00:00<?, ?B/s]"
      ]
     },
     "metadata": {},
     "output_type": "display_data"
    },
    {
     "data": {
      "application/vnd.jupyter.widget-view+json": {
       "model_id": "5b7f2c819868405eaad8c0e4f0f9141e",
       "version_major": 2,
       "version_minor": 0
      },
      "text/plain": [
       "daily_dialog.py:   0%|          | 0.00/4.85k [00:00<?, ?B/s]"
      ]
     },
     "metadata": {},
     "output_type": "display_data"
    },
    {
     "name": "stdin",
     "output_type": "stream",
     "text": [
      "The repository for daily_dialog contains custom code which must be executed to correctly load the dataset. You can inspect the repository content at https://hf.co/datasets/daily_dialog.\n",
      "You can avoid this prompt in future by passing the argument `trust_remote_code=True`.\n",
      "\n",
      "Do you wish to run the custom code? [y/N]  y\n"
     ]
    }
   ],
   "source": [
    "def load_and_preprocess_data():\n",
    "    # Load the dataset\n",
    "    dataset = load_dataset(\"daily_dialog\")\n",
    "    \n",
    "    # Initialize tokenizer\n",
    "    tokenizer = GPT2Tokenizer.from_pretrained(\"gpt2\")\n",
    "    \n",
    "    # Prepare training data\n",
    "    def prepare_data(examples):\n",
    "        dialogs = [\" \".join(d) for d in examples[\"dialog\"]]\n",
    "        return tokenizer(dialogs, truncation=True, max_length=config.block_size)\n",
    "    \n",
    "    tokenized_train = dataset[\"train\"].map(prepare_data, remove_columns=dataset[\"train\"].column_names)\n",
    "    tokenized_valid = dataset[\"validation\"].map(prepare_data, remove_columns=dataset[\"validation\"].column_names)\n",
    "    \n",
    "    return tokenized_train, tokenized_valid, tokenizer\n",
    "\n",
    "train_data, val_data, tokenizer = load_and_preprocess_data()"
   ]
  },
  {
   "cell_type": "markdown",
   "id": "19213227",
   "metadata": {},
   "source": [
    "## Model Architecture\n",
    "\n",
    "Now let's implement a simple GPT model:"
   ]
  },
  {
   "cell_type": "code",
   "execution_count": null,
   "id": "18f4f7da",
   "metadata": {},
   "outputs": [],
   "source": [
    "class CausalSelfAttention(nn.Module):\n",
    "    def __init__(self, config):\n",
    "        super().__init__()\n",
    "        assert config.n_embd % config.n_head == 0\n",
    "        self.c_attn = nn.Linear(config.n_embd, 3 * config.n_embd)\n",
    "        self.c_proj = nn.Linear(config.n_embd, config.n_embd)\n",
    "        self.attn_dropout = nn.Dropout(config.dropout)\n",
    "        self.resid_dropout = nn.Dropout(config.dropout)\n",
    "        self.n_head = config.n_head\n",
    "        self.n_embd = config.n_embd\n",
    "        self.dropout = config.dropout\n",
    "        self.register_buffer('bias', torch.tril(torch.ones(config.block_size, config.block_size))\n",
    "                                    .view(1, 1, config.block_size, config.block_size))\n",
    "\n",
    "    def forward(self, x):\n",
    "        B, T, C = x.size()\n",
    "        q, k, v = self.c_attn(x).split(self.n_embd, dim=2)\n",
    "        k = k.view(B, T, self.n_head, C // self.n_head).transpose(1, 2)\n",
    "        q = q.view(B, T, self.n_head, C // self.n_head).transpose(1, 2)\n",
    "        v = v.view(B, T, self.n_head, C // self.n_head).transpose(1, 2)\n",
    "        att = (q @ k.transpose(-2, -1)) * (1.0 / np.sqrt(k.size(-1)))\n",
    "        att = att.masked_fill(self.bias[:,:,:T,:T] == 0, float('-inf'))\n",
    "        att = F.softmax(att, dim=-1)\n",
    "        att = self.attn_dropout(att)\n",
    "        y = att @ v\n",
    "        y = y.transpose(1, 2).contiguous().view(B, T, C)\n",
    "        y = self.resid_dropout(self.c_proj(y))\n",
    "        return y\n",
    "\n",
    "class Block(nn.Module):\n",
    "    def __init__(self, config):\n",
    "        super().__init__()\n",
    "        self.ln1 = nn.LayerNorm(config.n_embd)\n",
    "        self.ln2 = nn.LayerNorm(config.n_embd)\n",
    "        self.attn = CausalSelfAttention(config)\n",
    "        self.mlp = nn.Sequential(\n",
    "            nn.Linear(config.n_embd, 4 * config.n_embd),\n",
    "            nn.GELU(),\n",
    "            nn.Linear(4 * config.n_embd, config.n_embd),\n",
    "            nn.Dropout(config.dropout),\n",
    "        )\n",
    "\n",
    "    def forward(self, x):\n",
    "        x = x + self.attn(self.ln1(x))\n",
    "        x = x + self.mlp(self.ln2(x))\n",
    "        return x\n",
    "\n",
    "class GPT(nn.Module):\n",
    "    def __init__(self, config):\n",
    "        super().__init__()\n",
    "        self.tok_emb = nn.Embedding(config.vocab_size, config.n_embd)\n",
    "        self.pos_emb = nn.Parameter(torch.zeros(1, config.block_size, config.n_embd))\n",
    "        self.drop = nn.Dropout(config.dropout)\n",
    "        self.blocks = nn.Sequential(*[Block(config) for _ in range(config.n_layer)])\n",
    "        self.ln_f = nn.LayerNorm(config.n_embd)\n",
    "        self.head = nn.Linear(config.n_embd, config.vocab_size, bias=False)\n",
    "        self.block_size = config.block_size\n",
    "        self.apply(self._init_weights)\n",
    "\n",
    "    def _init_weights(self, module):\n",
    "        if isinstance(module, (nn.Linear, nn.Embedding)):\n",
    "            module.weight.data.normal_(mean=0.0, std=0.02)\n",
    "            if isinstance(module, nn.Linear) and module.bias is not None:\n",
    "                module.bias.data.zero_()\n",
    "        elif isinstance(module, nn.LayerNorm):\n",
    "            module.bias.data.zero_()\n",
    "            module.weight.data.fill_(1.0)\n",
    "\n",
    "    def forward(self, idx, targets=None):\n",
    "        b, t = idx.size()\n",
    "        assert t <= self.block_size, f\"Cannot forward sequence of length {t}, block size is only {self.block_size}\"\n",
    "        pos = torch.arange(0, t, dtype=torch.long, device=idx.device).unsqueeze(0)\n",
    "\n",
    "        tok_emb = self.tok_emb(idx)\n",
    "        pos_emb = self.pos_emb[:, :t, :]\n",
    "        x = self.drop(tok_emb + pos_emb)\n",
    "        x = self.blocks(x)\n",
    "        x = self.ln_f(x)\n",
    "        logits = self.head(x)\n",
    "\n",
    "        loss = None\n",
    "        if targets is not None:\n",
    "            loss = F.cross_entropy(logits.view(-1, logits.size(-1)), targets.view(-1))\n",
    "\n",
    "        return logits, loss\n",
    "\n",
    "model = GPT(config).to(config.device)"
   ]
  },
  {
   "cell_type": "markdown",
   "id": "9e58a3ce",
   "metadata": {},
   "source": [
    "## Training Loop\n",
    "\n",
    "Let's implement the training loop with evaluation:"
   ]
  },
  {
   "cell_type": "code",
   "execution_count": null,
   "id": "8d35b7b2",
   "metadata": {},
   "outputs": [],
   "source": [
    "def get_batch(split):\n",
    "    data = train_data if split == 'train' else val_data\n",
    "    ix = torch.randint(len(data), (config.batch_size,))\n",
    "    x = torch.stack([torch.tensor(data[i]['input_ids'][:config.block_size]) for i in ix])\n",
    "    y = torch.stack([torch.tensor(data[i]['input_ids'][1:config.block_size+1]) for i in ix])\n",
    "    x, y = x.to(config.device), y.to(config.device)\n",
    "    return x, y\n",
    "\n",
    "@torch.no_grad()\n",
    "def estimate_loss():\n",
    "    out = {}\n",
    "    model.eval()\n",
    "    for split in ['train', 'val']:\n",
    "        losses = torch.zeros(config.eval_iters)\n",
    "        for k in range(config.eval_iters):\n",
    "            X, Y = get_batch(split)\n",
    "            logits, loss = model(X, Y)\n",
    "            losses[k] = loss.item()\n",
    "        out[split] = losses.mean()\n",
    "    model.train()\n",
    "    return out\n",
    "\n",
    "# Create the optimizer\n",
    "optimizer = torch.optim.AdamW(model.parameters(), lr=config.learning_rate)\n",
    "\n",
    "# Training loop\n",
    "losses = []\n",
    "for iter in tqdm(range(config.max_iters)):\n",
    "    if iter % config.eval_interval == 0:\n",
    "        losses_dict = estimate_loss()\n",
    "        print(f\"step {iter}: train loss {losses_dict['train']:.4f}, val loss {losses_dict['val']:.4f}\")\n",
    "        losses.append(losses_dict['train'])\n",
    "\n",
    "    xb, yb = get_batch('train')\n",
    "    logits, loss = model(xb, yb)\n",
    "    optimizer.zero_grad(set_to_none=True)\n",
    "    loss.backward()\n",
    "    optimizer.step()\n",
    "\n",
    "# Plot the training loss\n",
    "plt.figure(figsize=(10, 5))\n",
    "plt.plot(losses)\n",
    "plt.title('Training Loss')\n",
    "plt.xlabel('Evaluation Step')\n",
    "plt.ylabel('Loss')\n",
    "plt.show()"
   ]
  },
  {
   "cell_type": "markdown",
   "id": "3ab8df5c",
   "metadata": {},
   "source": [
    "## Generate Text\n",
    "\n",
    "Now let's try generating some text with our trained model:"
   ]
  },
  {
   "cell_type": "code",
   "execution_count": null,
   "id": "3aa67a56",
   "metadata": {},
   "outputs": [],
   "source": [
    "@torch.no_grad()\n",
    "def generate(prompt, max_tokens=50, temperature=1.0, top_k=None):\n",
    "    model.eval()\n",
    "    tokens = tokenizer.encode(prompt)\n",
    "    tokens = torch.tensor(tokens, dtype=torch.long, device=config.device)[None, ...]\n",
    "    \n",
    "    for _ in range(max_tokens):\n",
    "        if tokens.size(1) >= config.block_size:\n",
    "            tokens = tokens[:, -config.block_size:]\n",
    "            \n",
    "        logits, _ = model(tokens)\n",
    "        logits = logits[:, -1, :] / temperature\n",
    "        \n",
    "        if top_k is not None:\n",
    "            v, _ = torch.topk(logits, min(top_k, logits.size(-1)))\n",
    "            logits[logits < v[:, [-1]]] = -float('Inf')\n",
    "            \n",
    "        probs = F.softmax(logits, dim=-1)\n",
    "        next_token = torch.multinomial(probs, num_samples=1)\n",
    "        tokens = torch.cat((tokens, next_token), dim=1)\n",
    "        \n",
    "        if next_token.item() == tokenizer.eos_token_id:\n",
    "            break\n",
    "            \n",
    "    return tokenizer.decode(tokens[0].tolist())\n",
    "\n",
    "# Try generating some text\n",
    "prompt = \"Hello, how are you?\"\n",
    "generated_text = generate(prompt)\n",
    "print(f\"Prompt: {prompt}\")\n",
    "print(f\"Generated: {generated_text}\")"
   ]
  }
 ],
 "metadata": {
  "kernelspec": {
   "display_name": "Python 3 (ipykernel)",
   "language": "python",
   "name": "python3"
  },
  "language_info": {
   "codemirror_mode": {
    "name": "ipython",
    "version": 3
   },
   "file_extension": ".py",
   "mimetype": "text/x-python",
   "name": "python",
   "nbconvert_exporter": "python",
   "pygments_lexer": "ipython3",
   "version": "3.12.6"
  }
 },
 "nbformat": 4,
 "nbformat_minor": 5
}
