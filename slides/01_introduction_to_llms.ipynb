{
 "cells": [
  {
   "cell_type": "markdown",
   "id": "06497832",
   "metadata": {},
   "source": [
    "# Introduction to Large Language Models (LLMs)\n",
    "\n",
    "A comprehensive overview of modern language models, their architecture, and applications.\n",
    "\n",
    "University of Calgary - Graduate Tutorial"
   ]
  }
 ],
 "metadata": {
  "kernelspec": {
   "display_name": "Python 3 (ipykernel)",
   "language": "python",
   "name": "python3"
  },
  "language_info": {
   "codemirror_mode": {
    "name": "ipython",
    "version": 3
   },
   "file_extension": ".py",
   "mimetype": "text/x-python",
   "name": "python",
   "nbconvert_exporter": "python",
   "pygments_lexer": "ipython3",
   "version": "3.12.6"
  },
  "rise": {
   "autolaunch": true,
   "enable_chalkboard": true,
   "progress": true,
   "scroll": true,
   "theme": "simple"
  }
 },
 "nbformat": 4,
 "nbformat_minor": 5
}
