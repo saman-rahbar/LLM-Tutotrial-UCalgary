{
 "cells": [
  {
   "cell_type": "markdown",
   "id": "41620f08",
   "metadata": {},
   "source": [
    "# Technical Deep Dive: LLM Architecture\n",
    "    \n",
    "A detailed look at the inner workings of Large Language Models\n",
    "\n",
    "University of Calgary - Graduate Tutorial"
   ]
  },
  {
   "cell_type": "markdown",
   "id": "c9a7ae8c",
   "metadata": {},
   "source": [
    "## Transformer Architecture\n",
    "\n",
    "1. Key Components:\n",
    "   - Self-attention layers\n",
    "   - Feed-forward networks\n",
    "   - Layer normalization\n",
    "   - Residual connections\n",
    "\n",
    "2. Attention Mechanism:\n",
    "   - Query, Key, Value matrices\n",
    "   - Scaled dot-product attention\n",
    "   - Multi-head attention"
   ]
  },
  {
   "cell_type": "markdown",
   "id": "cbe81e8e",
   "metadata": {},
   "source": [
    "## Self-Attention Mechanism\n",
    "\n",
    "The core operation in transformers:\n",
    "\n",
    "1. Input embeddings are transformed into Q, K, V\n",
    "2. Attention scores = softmax(QK^T / √d)\n",
    "3. Output = Attention scores × V\n",
    "\n",
    "Benefits:\n",
    "- Captures long-range dependencies\n",
    "- Parallel processing\n",
    "- Dynamic context understanding"
   ]
  },
  {
   "cell_type": "code",
   "execution_count": null,
   "id": "aebefcdc",
   "metadata": {},
   "outputs": [],
   "source": [
    "import torch\n",
    "import torch.nn as nn\n",
    "import torch.nn.functional as F\n",
    "import matplotlib.pyplot as plt\n",
    "import numpy as np\n",
    "\n",
    "def visualize_attention(query, key, value):\n",
    "    # Compute attention scores\n",
    "    scores = torch.matmul(query, key.transpose(-2, -1)) / np.sqrt(key.size(-1))\n",
    "    attention = F.softmax(scores, dim=-1)\n",
    "    \n",
    "    # Plot attention matrix\n",
    "    plt.figure(figsize=(8, 6))\n",
    "    plt.imshow(attention.detach().numpy(), cmap='viridis')\n",
    "    plt.colorbar()\n",
    "    plt.title('Attention Weights')\n",
    "    plt.xlabel('Key/Value positions')\n",
    "    plt.ylabel('Query positions')\n",
    "    plt.show()\n",
    "    \n",
    "    return torch.matmul(attention, value)\n",
    "\n",
    "# Example usage\n",
    "seq_len = 10\n",
    "d_model = 64\n",
    "query = torch.randn(1, seq_len, d_model)\n",
    "key = torch.randn(1, seq_len, d_model)\n",
    "value = torch.randn(1, seq_len, d_model)\n",
    "\n",
    "output = visualize_attention(query[0], key[0], value[0])"
   ]
  },
  {
   "cell_type": "markdown",
   "id": "f1cc665b",
   "metadata": {},
   "source": [
    "## Position-wise Feed-Forward Networks\n",
    "\n",
    "After attention, each position goes through:\n",
    "\n",
    "1. Two linear transformations\n",
    "2. GELU activation\n",
    "3. Dropout for regularization\n",
    "\n",
    "```python\n",
    "class FeedForward(nn.Module):\n",
    "    def __init__(self, d_model, d_ff, dropout):\n",
    "        super().__init__()\n",
    "        self.net = nn.Sequential(\n",
    "            nn.Linear(d_model, d_ff),\n",
    "            nn.GELU(),\n",
    "            nn.Dropout(dropout),\n",
    "            nn.Linear(d_ff, d_model)\n",
    "        )\n",
    "```"
   ]
  },
  {
   "cell_type": "markdown",
   "id": "f68306b6",
   "metadata": {},
   "source": [
    "## Training Process\n",
    "\n",
    "1. **Pre-training**\n",
    "   - Masked language modeling\n",
    "   - Next token prediction\n",
    "   - Large-scale text corpora\n",
    "\n",
    "2. **Fine-tuning**\n",
    "   - Task-specific adaptation\n",
    "   - Smaller learning rates\n",
    "   - Limited data needed\n",
    "\n",
    "3. **Evaluation**\n",
    "   - Perplexity\n",
    "   - Task-specific metrics\n",
    "   - Human evaluation"
   ]
  },
  {
   "cell_type": "markdown",
   "id": "afe13440",
   "metadata": {},
   "source": [
    "## Scaling Laws\n",
    "\n",
    "Key findings about model scaling:\n",
    "\n",
    "1. Performance improves predictably with:\n",
    "   - Model size (parameters)\n",
    "   - Dataset size\n",
    "   - Compute budget\n",
    "\n",
    "2. Empirical relationships:\n",
    "   - Loss ~ 1/sqrt(parameters)\n",
    "   - Loss ~ 1/sqrt(compute)\n",
    "   - Loss ~ 1/sqrt(dataset size)"
   ]
  },
  {
   "cell_type": "markdown",
   "id": "d7495ebe",
   "metadata": {},
   "source": [
    "## Optimization Techniques\n",
    "\n",
    "1. **Memory Efficiency**\n",
    "   - Gradient checkpointing\n",
    "   - Mixed precision training\n",
    "   - Model parallelism\n",
    "\n",
    "2. **Training Stability**\n",
    "   - Learning rate scheduling\n",
    "   - Gradient clipping\n",
    "   - Layer normalization\n",
    "\n",
    "3. **Speed Improvements**\n",
    "   - Efficient attention variants\n",
    "   - Hardware optimization\n",
    "   - Distributed training"
   ]
  },
  {
   "cell_type": "markdown",
   "id": "b79fa556",
   "metadata": {},
   "source": [
    "## Practical Considerations\n",
    "\n",
    "1. **Hardware Requirements**\n",
    "   - GPU memory needs\n",
    "   - Training infrastructure\n",
    "   - Inference optimization\n",
    "\n",
    "2. **Common Challenges**\n",
    "   - Gradient instability\n",
    "   - Memory constraints\n",
    "   - Long training times\n",
    "\n",
    "3. **Best Practices**\n",
    "   - Careful hyperparameter tuning\n",
    "   - Regular checkpointing\n",
    "   - Monitoring and debugging"
   ]
  }
 ],
 "metadata": {
  "kernelspec": {
   "display_name": "Python 3 (ipykernel)",
   "language": "python",
   "name": "python3"
  },
  "language_info": {
   "codemirror_mode": {
    "name": "ipython",
    "version": 3
   },
   "file_extension": ".py",
   "mimetype": "text/x-python",
   "name": "python",
   "nbconvert_exporter": "python",
   "pygments_lexer": "ipython3",
   "version": "3.12.6"
  },
  "rise": {
   "autolaunch": true,
   "enable_chalkboard": true,
   "progress": true,
   "scroll": true,
   "theme": "simple"
  }
 },
 "nbformat": 4,
 "nbformat_minor": 5
}
